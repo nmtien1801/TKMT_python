{
 "cells": [
  {
   "cell_type": "code",
   "execution_count": null,
   "metadata": {
    "id": "8b16cbfd-29b8-4075-86b8-7a9ed64bb9da"
   },
   "outputs": [],
   "source": [
    "import numpy as np\n",
    "from scipy import stats"
   ]
  },
  {
   "cell_type": "markdown",
   "metadata": {
    "id": "9d1f9303-5e0d-44dc-8846-6b03069a6a37"
   },
   "source": [
    "### **Bài 1.** Trên tập mẫu gồm 100 số liệu, người ta tính được $\\bar{x} = 0.1$ và $s = 0.014$. Xác định gia tri trung binh voi khoảng tin cậy 95% cho giá trị trung bình thật."
   ]
  },
  {
   "cell_type": "markdown",
   "metadata": {
    "id": "b987a104-b1a0-4d2c-9b61-778aa8920209"
   },
   "source": [
    "Gọi $\\mu$ là giá trị trung bình thật của tập mẫu. Ta có, $\\bar{x}$ là giá trị trung bình của 100 số liệu.\n",
    "\n",
    "Độ tin cậy $95\\% = 1 - \\alpha$ => $\\alpha=0.05$\n",
    "\n",
    "Ta có $n = 100 > 30$. => áp dụng định lý giới hạn trung tâm, ta có:\n",
    "$$\\bigg(\\bar{x} - z_{\\frac{\\alpha}{2}}\\frac{s}{\\sqrt{n}},\\bar{x}+z_{\\frac{\\alpha}{2}}\\frac{s}{\\sqrt{n}}\\bigg)$$\n",
    "Trong đó, $\\alpha = 5\\% = 0.05$, $z_{1-\\frac{\\alpha}{2}}=z_{0.975}=1.96$, $\\bar{x}=0.1$, $s=0.014$\n"
   ]
  },
  {
   "cell_type": "code",
   "execution_count": null,
   "metadata": {
    "colab": {
     "base_uri": "https://localhost:8080/"
    },
    "executionInfo": {
     "elapsed": 6,
     "status": "ok",
     "timestamp": 1698126705794,
     "user": {
      "displayName": "Tấn Thành Trần",
      "userId": "11192642793522542419"
     },
     "user_tz": -420
    },
    "id": "b7680a46-44ef-4286-992e-5d5cb8912b26",
    "outputId": "62f4fb98-9eb2-46b3-cd27-14c6bd9c8e35"
   },
   "outputs": [
    {
     "name": "stdout",
     "output_type": "stream",
     "text": [
      "0.09725605042164392 0.10274394957835609\n"
     ]
    }
   ],
   "source": [
    "x = 0.1\n",
    "s = 0.014\n",
    "n = 100\n",
    "alpha = 0.05\n",
    "z = stats.norm.ppf(1-alpha/2)\n",
    "print(x-z*s/np.sqrt(n), x+z*s/np.sqrt(n))"
   ]
  },
  {
   "cell_type": "markdown",
   "metadata": {
    "id": "64541c44-80f4-4df8-9c80-59eac300fff7"
   },
   "source": [
    "Vậy khoảng ước lượng 95% cho giá trị trung bình thật là: $(0.097256,0.102744)$"
   ]
  },
  {
   "cell_type": "markdown",
   "metadata": {
    "id": "1e308e86-4d4e-400b-bcd0-a1838f068309"
   },
   "source": [
    "### **Bài 2** Quan sát chiều cao $X$ (cm) của một số nữ giới, ta ghi nhận số liệu như sau:\n",
    "| x(cm)    | 140-145 | 145-150 | 150-155 | 155 − 160 | 160 − 165 | 165 − 170\n",
    "| -------- | ------- | ------- | ------- | ------- | ------- | ------- |\n",
    "| Số người  | 1 | 3 | 7|  9| 5| 2\n",
    "\n",
    "a) Tính $\\bar{x}$ và $s^2$\n",
    "Ta viết lại bảng tần số:\n",
    "\n",
    "| x(cm)    | 142.5 | 147.5 | 152.5 | 157.5 | 162.5 | 167.5\n",
    "| -------- | ------- | ------- | ------- | ------- | ------- | ------- |\n",
    "| Số người  | 1 | 3 | 7|  9| 5| 2\n",
    "\n",
    "Ta có: $$n=1+3+7+9+5+2=27$$\n",
    "$$\\bar{x}=\\frac{142.5\\times1+147.5\\times3+152.5\\times7+157.5\\times9+162.5\\times5+167.5\\times2}{27}=156.2$$\n",
    "$$s^2 = \\frac{1\\times(142.5-156.2)^2+3\\times(147.5-156.2)^2+7\\times(152.5-156.2)^2+9\\times(157.5-156.2)^2+5\\times(162.5-156.2)^2+2\\times(167.5-156.2)^2}{27-1}=37.678$$\n",
    "\n",
    "\n",
    "b) Ước lượng $\\mu$ với độ tin cậy 95%\n",
    "\n",
    "Ta có, $n=27<30$, Vì mẫu nhỏ và chưa biết $\\sigma^2$ nên chúng ta sử dụng phân phối t với bậc tự do $n-1=26$ để ước lượng và độ tin cậy $95\\% = 1 - \\alpha$ => $\\alpha=0.05$\n",
    "\n",
    "Vậy ta có:\n",
    "$$\\bigg(\\bar{x} - t^{n-1}_{\\frac{\\alpha}{2}}\\frac{s}{\\sqrt{n}},\\bar{x}+t^{n-1}_{\\frac{\\alpha}{2}}\\frac{s}{\\sqrt{n}}\\bigg)$$"
   ]
  },
  {
   "cell_type": "code",
   "execution_count": null,
   "metadata": {
    "colab": {
     "base_uri": "https://localhost:8080/"
    },
    "executionInfo": {
     "elapsed": 3,
     "status": "ok",
     "timestamp": 1698126706269,
     "user": {
      "displayName": "Tấn Thành Trần",
      "userId": "11192642793522542419"
     },
     "user_tz": -420
    },
    "id": "86e5eda1-4e2f-402a-859d-44e8293d33be",
    "outputId": "71839b5d-d610-4810-d196-6e197da546d4"
   },
   "outputs": [
    {
     "name": "stdout",
     "output_type": "stream",
     "text": [
      "153.77179281522737 158.6282071847726\n"
     ]
    }
   ],
   "source": [
    "x=156.2\n",
    "n = 27\n",
    "alpha = 0.05\n",
    "s = 37.678**0.5\n",
    "t = stats.t.ppf(1-alpha/2, n-1)\n",
    "print(x-t*s/np.sqrt(n), x+t*s/np.sqrt(n))"
   ]
  },
  {
   "cell_type": "markdown",
   "metadata": {
    "id": "5f51a9b1-f260-4ec4-8e6d-2dcd01dd38bc"
   },
   "source": [
    "Vậy khoảng ước lượng 95% cho $\\mu$ là: $(153.77,158.63)$"
   ]
  },
  {
   "cell_type": "markdown",
   "metadata": {
    "id": "3c18615e-6d99-4186-929f-62f795467a01"
   },
   "source": [
    "### **Bài 3.** Một loại thuốc mới đem điều trị cho 50 người bị bệnh B, kết quả có 40 người khỏi bệnh.\n",
    "\n",
    "a) Ước lượng tỷ lệ khỏi bệnh p nếu dùng thuốc đó điều trị với độ tin cậy 99%.\n",
    "\n",
    "Ta có $n=50$; tỉ lệ để khỏi bệnh p là: $\\hat{p}=\\frac{40}{50}=0.8$; Độ tin câỵ là: $99\\%=1-\\alpha => \\alpha=0.01$\n",
    "\n",
    "Khoảng tin cậy cho tỉ lệ p là:\n",
    "$$\\bigg(\\hat{p} - z_{\\frac{\\alpha}{2}}\\sqrt{\\frac{\\hat{p}(\\hat{p})}{n}},\\bar{x}+z_{\\frac{\\alpha}{2}}\\sqrt{\\frac{\\hat{p}(\\hat{p})}{n}}\\bigg)$$"
   ]
  },
  {
   "cell_type": "code",
   "execution_count": null,
   "metadata": {
    "colab": {
     "base_uri": "https://localhost:8080/"
    },
    "executionInfo": {
     "elapsed": 2,
     "status": "ok",
     "timestamp": 1698126706637,
     "user": {
      "displayName": "Tấn Thành Trần",
      "userId": "11192642793522542419"
     },
     "user_tz": -420
    },
    "id": "b19ad12c-8dd8-4917-a811-c7f4316030e9",
    "outputId": "24d0c2c5-2efb-4bc8-fd68-d352dfa8c636"
   },
   "outputs": [
    {
     "name": "stdout",
     "output_type": "stream",
     "text": [
      "0.654289090582524 0.945710909417476\n"
     ]
    }
   ],
   "source": [
    "n = 50\n",
    "p = 40/50\n",
    "alpha = 0.01\n",
    "z = stats.norm.ppf(1-alpha/2)\n",
    "print(p-z*np.sqrt(p*(1-p)/n), p+z*np.sqrt(p*(1-p)/n))"
   ]
  },
  {
   "cell_type": "markdown",
   "metadata": {
    "id": "514a21ca-dd9b-4ac1-910c-a8b5819b9334"
   },
   "source": [
    "**vậy ước lượng tỉ lệ khỏi bệnh p nếu dùng thuốc đó điều trị với độ tin cậy 99% là: $(0.654,0.9457)$**"
   ]
  },
  {
   "cell_type": "markdown",
   "metadata": {
    "id": "fcf31475-3011-43e3-b4a0-27c2e1af9a27"
   },
   "source": [
    "b) Nếu muốn sai số ước lượng không quá 0.02 ở độ tin cậy 0.95 thì phải quan sát ít nhất bao nhiêu trường hợp?\n",
    "\n",
    "Ta có sai số của ước lượng là: $E = z_{1-\\frac{\\alpha}{2}}\\sqrt{\\frac{\\hat{p}(1-\\hat{p})}{n}}$\n",
    "\n",
    "Với độ tin cậy 95% thì ta có $\\alpha=0.05$. Để có $E<0.02$ ta giải hệ phương trình sau:\n",
    "$$z_{1-\\frac{\\alpha}{2}}\\sqrt{\\frac{\\hat{p}(\\hat{p})}{n}} \\leq 0.02$$"
   ]
  },
  {
   "cell_type": "code",
   "execution_count": null,
   "metadata": {
    "colab": {
     "base_uri": "https://localhost:8080/"
    },
    "executionInfo": {
     "elapsed": 4,
     "status": "ok",
     "timestamp": 1698126707188,
     "user": {
      "displayName": "Tấn Thành Trần",
      "userId": "11192642793522542419"
     },
     "user_tz": -420
    },
    "id": "2251e2a3-552a-48ed-9c21-76f0d7f4ad90",
    "outputId": "d421cbbc-bf0f-4a11-9653-a2b751cb1369"
   },
   "outputs": [
    {
     "data": {
      "text/plain": [
       "1536.5835282776495"
      ]
     },
     "execution_count": 5,
     "metadata": {},
     "output_type": "execute_result"
    }
   ],
   "source": [
    "alpha = 0.05\n",
    "z = stats.norm.ppf(1-alpha/2)\n",
    "(p*(1-p))/((0.02/z)**2)"
   ]
  },
  {
   "cell_type": "markdown",
   "metadata": {
    "id": "9543a908-e928-4d7f-9134-53883a1f3f14"
   },
   "source": [
    "Vậy cần quan sát ít nhất là 1537 trường hợp để có sai số ước lượng ko quá 0.02"
   ]
  },
  {
   "cell_type": "markdown",
   "metadata": {
    "id": "7a30fa0a-714b-4d4d-98c5-6ede2df79d41"
   },
   "source": [
    "### **Bài 4**\n",
    "Trong điều kiện chăn nuôi bình thường, lượng sữa trung bình của 1 con bò là 14 kg/ngày. Nghi ngờ điều kiện chăn nuôi kém đi làm cho lượng sữa giảm xuống, người ta điều tra ngẫu nhiên 25 con và tính được lượng sữa trung bình của 1 con trong 1 ngày là 12.5 và độ lệch chuẩn s = 2.5. Với mức ý nghĩa α = 0.05. Hãy kết luận điều nghi ngờ nói trên. Giả thiết lượng sữa bò là 1 biến ngẫu nhiên chuẩn.\n",
    "\n",
    "- Gọi $\\mu$ là lượng sữa trung bình của một con bò trong 1 ngày với điều kiện chăn nuôi bị kém đi.\n",
    "Ta cần kiểm định giả thuyết:\n",
    "\n",
    "$H_0 : \\mu \\geq 14$: Điều kiện chăn nuôi không ảnh hưởng đến chất lượng sữa\n",
    "\n",
    "$H_1: \\mu < 14$: Điều kiện kém thì chất lượng cũng kém\n",
    "\n",
    "Ta có $n = 25 < 30$;  $\\bar{x} = 12.5$; $s = 2.5$, và lượng sữa bò là 1 biến ngẫu nhiên chuẩn, chưa biết $\\sigma^2$ nên ta dùng phân phối $t$ để tính giá trị thống kê và p-values:\n",
    "$$t_{obs}=\\frac{\\bar{x}-\\mu}{\\frac{s}{\\sqrt{n}}}$$\n",
    "\n",
    "$H_1: \\mu < \\mu_0$ nên $p_{value} = P(T_{n-1}<t_{obs})$"
   ]
  },
  {
   "cell_type": "code",
   "execution_count": null,
   "metadata": {
    "colab": {
     "base_uri": "https://localhost:8080/"
    },
    "executionInfo": {
     "elapsed": 307,
     "status": "ok",
     "timestamp": 1698126796313,
     "user": {
      "displayName": "Tấn Thành Trần",
      "userId": "11192642793522542419"
     },
     "user_tz": -420
    },
    "id": "2de33e46-0cd2-4218-b11a-0a03451d1af9",
    "outputId": "4da166f3-f50f-4eca-88c5-fbb0971408a4"
   },
   "outputs": [
    {
     "name": "stdout",
     "output_type": "stream",
     "text": [
      "T obs: -3.0\n",
      "p values:  0.003102868308262372\n",
      "Bác bỏ H 0\n"
     ]
    }
   ],
   "source": [
    "x=12.5\n",
    "s=2.5\n",
    "n=25\n",
    "alpha = 0.05\n",
    "t_s = (x-14)/(s/np.sqrt(n))\n",
    "print(\"T obs:\", t_s)\n",
    "p = stats.t.cdf(-np.abs(t_s))\n",
    "print(\"p values: \", p)\n",
    "if p < alpha:\n",
    "    print(\"Bác bỏ H 0\")\n",
    "else:\n",
    "    print(\"Chấp nhận H 0\")"
   ]
  },
  {
   "cell_type": "markdown",
   "metadata": {
    "id": "99d1f3d9-769e-4319-84e9-e6f04a94013d"
   },
   "source": [
    "Vậy với mức ý nghĩa $\\alpha=0.05$ thì điều kiện chăn nuôi kém làm cho chất lượng sữa giảm đi."
   ]
  },
  {
   "cell_type": "markdown",
   "metadata": {
    "id": "60eeaced-e098-4b7a-ab5b-127af416e370"
   },
   "source": [
    "### **Bài 5** Tỷ lệ phế phẩm của một nhà máy trước đây là 5%. Năm nay nhà máy áp dụng một biện pháp kỹ thuật mới. Để nghiên cứu tác dụng của biện pháp kỹ thuật mới, người ta lấy một mẫu gồm 800 sản phẩm để kiểm tra và thấy có 24 phế phẩm.\n",
    "\n",
    "#### a) Với α = 0.01. Hãy cho kết luận về biện pháp kỹ thuật mới này?\n",
    "\n",
    "Ta cần kiểm định giả thuyết:\n",
    "\n",
    "$H_0 : p = 0.05$: biện pháp kỹ thuật mới không làm thay đổi tỷ lệ phế phẩm.\n",
    "\n",
    "$H_1: p \\neq 0.05$: biện pháp kỹ thuật mới làm thay đổi tỷ lệ phế phẩm.\n",
    "\n",
    "- Các quan sát mẫu là một mẫu ngẫu nhiên đơn giản, các lần kiểm tra sản phẩm là độc lập nên tỷ lệ nhận được sản phẩm phế phẩm là tuân theo phân phối nhị thức.\n",
    "- Gọi $p_o = 5\\%$ là tỷ lệ phế phẩm của nhà máy khi chưa áp dụng biện pháp kỹ thuật mới. Ta có $n=800$ và $\\hat{p}=\\frac{24}{800}$.\n",
    "\n",
    "Ta có $n=800 > 30$, $\\hat{p}=0.03$, $np=800\\times0.03=24 \\geq 5$ và $n(1-p)=800(1-0.03)=776 \\geq 5$. Vậy phân phối nhị thức của tỷ lệ mẫu có thể xấp xỉ bằng phân phối chuẩn.\n",
    "$$z=\\frac{\\hat{p}-p}{\\sqrt{\\frac{pq}{n}}}$$\n",
    "$$p_{values} = P(Z>z)$$"
   ]
  },
  {
   "cell_type": "code",
   "execution_count": null,
   "metadata": {
    "colab": {
     "base_uri": "https://localhost:8080/"
    },
    "executionInfo": {
     "elapsed": 300,
     "status": "ok",
     "timestamp": 1698126754120,
     "user": {
      "displayName": "Tấn Thành Trần",
      "userId": "11192642793522542419"
     },
     "user_tz": -420
    },
    "id": "feff3547-ea33-44db-8657-450ea7c9359c",
    "outputId": "2cf8bbb6-9718-442d-c7eb-5982fdd1b799"
   },
   "outputs": [
    {
     "name": "stdout",
     "output_type": "stream",
     "text": [
      "-2.595542738092201\n",
      "0.00944416568783263\n",
      "Từ chối giả thuyết H0\n"
     ]
    }
   ],
   "source": [
    "n = 800\n",
    "p = 24/800\n",
    "p_hat = 0.05\n",
    "alpha = 0.01\n",
    "z = n**0.5*(p-p_hat)/((p_hat*(1-p_hat))**0.5)\n",
    "print(z)\n",
    "p_value = 2*(stats.norm.cdf(-z if z > 0 else z))\n",
    "print(p_value)\n",
    "if p_value < alpha:\n",
    "    print(\"Từ chối giả thuyết H0\")\n",
    "else:\n",
    "    print(\"Chấp nhận giả thuyết H0\")"
   ]
  },
  {
   "cell_type": "markdown",
   "metadata": {
    "id": "83fa90c1-d09d-4d7f-bcf3-44613737336f"
   },
   "source": [
    "Vì $p_{values} < \\alpha$ nên chúng ta chấp nhận giả thuyết $H_1$, tức là với mức ý nghĩa $\\alpha=0.01$ biện pháp kỹ thuật mới làm thay đổi tỷ lệ phế phẩm."
   ]
  },
  {
   "cell_type": "markdown",
   "metadata": {
    "id": "e6157742-1815-4ef4-aedd-e8044ff5eef3"
   },
   "source": [
    "#### b) Nếu nhà máy báo cáo tỷ lệ phế phẩm sau khi áp dụng biện pháp kỹ thuật mới là 2% thì có chấp nhận được không? (α = 0.01)."
   ]
  },
  {
   "cell_type": "markdown",
   "metadata": {
    "id": "0a780de1-6c72-4a37-aff0-589986fffed2"
   },
   "source": [
    "Tương tự ta có:\n",
    "\n",
    "$H_0 : p = 0.02$: Tỷ lệ khi áp dụng biện pháp kỹ thuật mới là 2%\n",
    "\n",
    "$H_1: p \\neq 0.02$: Tỷ lệ khi áp dụng biện pháp kỹ thuật mới khác 2%\n",
    "\n",
    "Tương tự ta tính $z$ và $p_{values}$"
   ]
  },
  {
   "cell_type": "code",
   "execution_count": null,
   "metadata": {
    "colab": {
     "base_uri": "https://localhost:8080/"
    },
    "executionInfo": {
     "elapsed": 304,
     "status": "ok",
     "timestamp": 1698126767475,
     "user": {
      "displayName": "Tấn Thành Trần",
      "userId": "11192642793522542419"
     },
     "user_tz": -420
    },
    "id": "68594df5-63d9-495e-8db8-d67dd21e74d5",
    "outputId": "7f8b617f-ed92-4247-8b90-7443b7eef749"
   },
   "outputs": [
    {
     "name": "stdout",
     "output_type": "stream",
     "text": [
      "2.020305089104421\n",
      "0.04335175126086268\n",
      "Chấp nhận giả thuyết H0\n"
     ]
    }
   ],
   "source": [
    "n = 800\n",
    "p = 24/800\n",
    "p_hat = 0.02\n",
    "alpha = 0.01\n",
    "z = n**0.5*(p-p_hat)/((p_hat*(1-p_hat))**0.5)\n",
    "print(z)\n",
    "p_value = 2*(stats.norm.cdf(-z if z > 0 else z))\n",
    "print(p_value)\n",
    "if p_value < alpha:\n",
    "    print(\"Từ chối giả thuyết H0\")\n",
    "else:\n",
    "    print(\"Chấp nhận giả thuyết H0\")"
   ]
  },
  {
   "cell_type": "markdown",
   "metadata": {
    "id": "9fcc5847-9a88-4754-b3f3-1b0ae529991c"
   },
   "source": [
    "Vì $p_{values} > \\alpha$ nên chúng ta chấp nhận giả thuyết $H_0$. Vậy với mức ý nghĩa $\\alpha=0.01$ không có đủ bằng chứng mẫu để đảm bảo biện pháp kỹ thuật mới có $2\\%$ tỷ lệ phế phẩm."
   ]
  },
  {
   "cell_type": "code",
   "execution_count": null,
   "metadata": {
    "id": "d9c27550-20c1-49f7-9808-f960de87bda1"
   },
   "outputs": [],
   "source": []
  }
 ],
 "metadata": {
  "colab": {
   "provenance": []
  },
  "kernelspec": {
   "display_name": "Python 3",
   "language": "python",
   "name": "python3"
  },
  "language_info": {
   "codemirror_mode": {
    "name": "ipython",
    "version": 3
   },
   "file_extension": ".py",
   "mimetype": "text/x-python",
   "name": "python",
   "nbconvert_exporter": "python",
   "pygments_lexer": "ipython3",
   "version": "3.8.5"
  }
 },
 "nbformat": 4,
 "nbformat_minor": 5
}
