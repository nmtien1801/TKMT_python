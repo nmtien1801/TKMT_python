{
 "cells": [
  {
   "cell_type": "code",
   "execution_count": null,
   "metadata": {
    "id": "jlECLDkItPD8"
   },
   "outputs": [],
   "source": [
    "import numpy as np\n",
    "import pandas as pd\n",
    "from scipy import stats\n"
   ]
  },
  {
   "cell_type": "code",
   "execution_count": null,
   "metadata": {
    "colab": {
     "base_uri": "https://localhost:8080/"
    },
    "executionInfo": {
     "elapsed": 18900,
     "status": "ok",
     "timestamp": 1699863785546,
     "user": {
      "displayName": "Tấn Thành Trần",
      "userId": "11192642793522542419"
     },
     "user_tz": -420
    },
    "id": "iod9B_oFxpxu",
    "outputId": "8e2e8423-cc22-451e-ab65-9d67d53e6d16"
   },
   "outputs": [
    {
     "name": "stdout",
     "output_type": "stream",
     "text": [
      "Mounted at /content/drive\n"
     ]
    }
   ],
   "source": [
    "from google.colab import drive\n",
    "drive.mount('/content/drive')"
   ]
  },
  {
   "cell_type": "code",
   "execution_count": null,
   "metadata": {
    "colab": {
     "base_uri": "https://localhost:8080/"
    },
    "executionInfo": {
     "elapsed": 558,
     "status": "ok",
     "timestamp": 1699863855428,
     "user": {
      "displayName": "Tấn Thành Trần",
      "userId": "11192642793522542419"
     },
     "user_tz": -420
    },
    "id": "Xwvk4oDux17w",
    "outputId": "5d163505-a6a6-494b-cda9-dcf4e4327ef6"
   },
   "outputs": [
    {
     "name": "stdout",
     "output_type": "stream",
     "text": [
      "/content/drive/MyDrive/IUH-Teach/TKMT/TK3/ontapTK3\n"
     ]
    }
   ],
   "source": [
    "cd /content/drive/MyDrive/IUH-Teach/TKMT/TK3/ontapTK3"
   ]
  },
  {
   "cell_type": "markdown",
   "metadata": {
    "id": "lZKPj69HtPD9"
   },
   "source": [
    "### **Bài 1.**\n",
    "Trên tập mẫu gồm 100 số liệu, người ta tính được $\\bar{x} = 0.1$ và $s = 0.014$. Xác định khoảng tin cậy 95% cho giá trị trung bình thật."
   ]
  },
  {
   "cell_type": "markdown",
   "metadata": {
    "id": "h8WTEImatPD-"
   },
   "source": [
    "Gọi $\\mu$ là giá trị trung bình thật của tập mẫu. Ta có, $\\bar{x}$ là giá trị trung bình của 100 số liệu.\n",
    "\n",
    "Độ tin cậy $95\\% = 1 - \\alpha$ => $\\alpha=0.05$\n",
    "\n",
    "Ta có $n = 100 > 30$. => ta sấp sỉ phân phối trên với phân phối chuẩn, ta có:\n",
    "$$\\bigg(\\bar{x} - z_{\\frac{\\alpha}{2}}\\frac{s}{\\sqrt{n}},\\bar{x}+z_{\\frac{\\alpha}{2}}\\frac{s}{\\sqrt{n}}\\bigg)$$\n",
    "Trong đó, $\\alpha = 5\\% = 0.05$, $z_{\\frac{\\alpha}{2}}=z_{0.975}=1.96$, $\\bar{x}=0.1$, $s=0.014$\n"
   ]
  },
  {
   "cell_type": "code",
   "execution_count": null,
   "metadata": {
    "colab": {
     "base_uri": "https://localhost:8080/"
    },
    "executionInfo": {
     "elapsed": 387,
     "status": "ok",
     "timestamp": 1699863834531,
     "user": {
      "displayName": "Tấn Thành Trần",
      "userId": "11192642793522542419"
     },
     "user_tz": -420
    },
    "id": "5G7tn9YYtPD-",
    "outputId": "fe6ad3c0-866a-420a-cb13-f57721007759"
   },
   "outputs": [
    {
     "name": "stdout",
     "output_type": "stream",
     "text": [
      "0.09725605042164392 0.10274394957835609\n"
     ]
    }
   ],
   "source": [
    "x = 0.1\n",
    "s = 0.014\n",
    "n = 100\n",
    "alpha = 0.05\n",
    "z = stats.norm.ppf(1-alpha/2)\n",
    "print(x-z*s/np.sqrt(n), x+z*s/np.sqrt(n))"
   ]
  },
  {
   "cell_type": "markdown",
   "metadata": {
    "id": "lUI1hjo9tPD_"
   },
   "source": [
    "Vậy khoảng giá trị trung bình thật là: (0,097;0.102) với khoảng tin cậy 95%"
   ]
  },
  {
   "cell_type": "markdown",
   "metadata": {
    "id": "XB4mjynytPD_"
   },
   "source": [
    "### **Bài 2**\n",
    "\n",
    "Dataset 18 (__M&M__) chứa thông tin trọng lượng và màu sắc của mẫu các viên kẹo của hãng M&M.\n",
    "\n",
    "Sử dụng mẫu trên bạn hãy kiểm tra phát biểu sau: __\"20% kẹo M&M có màu đỏ\"__ với mức ý nghĩa là 5%"
   ]
  },
  {
   "cell_type": "code",
   "execution_count": null,
   "metadata": {
    "colab": {
     "base_uri": "https://localhost:8080/",
     "height": 206
    },
    "executionInfo": {
     "elapsed": 534,
     "status": "ok",
     "timestamp": 1699863861026,
     "user": {
      "displayName": "Tấn Thành Trần",
      "userId": "11192642793522542419"
     },
     "user_tz": -420
    },
    "id": "o3svMDY0tPD_",
    "outputId": "12e07822-fc48-438d-8a7c-def644994909"
   },
   "outputs": [
    {
     "data": {
      "text/html": [
       "\n",
       "  <div id=\"df-1ccc212e-824f-42fa-ac13-55dae6aed0b9\" class=\"colab-df-container\">\n",
       "    <div>\n",
       "<style scoped>\n",
       "    .dataframe tbody tr th:only-of-type {\n",
       "        vertical-align: middle;\n",
       "    }\n",
       "\n",
       "    .dataframe tbody tr th {\n",
       "        vertical-align: top;\n",
       "    }\n",
       "\n",
       "    .dataframe thead th {\n",
       "        text-align: right;\n",
       "    }\n",
       "</style>\n",
       "<table border=\"1\" class=\"dataframe\">\n",
       "  <thead>\n",
       "    <tr style=\"text-align: right;\">\n",
       "      <th></th>\n",
       "      <th>Red</th>\n",
       "      <th>Orange</th>\n",
       "      <th>Yellow</th>\n",
       "      <th>Brown</th>\n",
       "      <th>Blue</th>\n",
       "      <th>Green</th>\n",
       "    </tr>\n",
       "  </thead>\n",
       "  <tbody>\n",
       "    <tr>\n",
       "      <th>0</th>\n",
       "      <td>0.751</td>\n",
       "      <td>0.735</td>\n",
       "      <td>0.883</td>\n",
       "      <td>0.696</td>\n",
       "      <td>0.881</td>\n",
       "      <td>0.925</td>\n",
       "    </tr>\n",
       "    <tr>\n",
       "      <th>1</th>\n",
       "      <td>0.841</td>\n",
       "      <td>0.895</td>\n",
       "      <td>0.769</td>\n",
       "      <td>0.876</td>\n",
       "      <td>0.863</td>\n",
       "      <td>0.914</td>\n",
       "    </tr>\n",
       "    <tr>\n",
       "      <th>2</th>\n",
       "      <td>0.856</td>\n",
       "      <td>0.865</td>\n",
       "      <td>0.859</td>\n",
       "      <td>0.855</td>\n",
       "      <td>0.775</td>\n",
       "      <td>0.881</td>\n",
       "    </tr>\n",
       "    <tr>\n",
       "      <th>3</th>\n",
       "      <td>0.799</td>\n",
       "      <td>0.864</td>\n",
       "      <td>0.784</td>\n",
       "      <td>0.806</td>\n",
       "      <td>0.854</td>\n",
       "      <td>0.865</td>\n",
       "    </tr>\n",
       "    <tr>\n",
       "      <th>4</th>\n",
       "      <td>0.966</td>\n",
       "      <td>0.852</td>\n",
       "      <td>0.824</td>\n",
       "      <td>0.840</td>\n",
       "      <td>0.810</td>\n",
       "      <td>0.865</td>\n",
       "    </tr>\n",
       "  </tbody>\n",
       "</table>\n",
       "</div>\n",
       "    <div class=\"colab-df-buttons\">\n",
       "\n",
       "  <div class=\"colab-df-container\">\n",
       "    <button class=\"colab-df-convert\" onclick=\"convertToInteractive('df-1ccc212e-824f-42fa-ac13-55dae6aed0b9')\"\n",
       "            title=\"Convert this dataframe to an interactive table.\"\n",
       "            style=\"display:none;\">\n",
       "\n",
       "  <svg xmlns=\"http://www.w3.org/2000/svg\" height=\"24px\" viewBox=\"0 -960 960 960\">\n",
       "    <path d=\"M120-120v-720h720v720H120Zm60-500h600v-160H180v160Zm220 220h160v-160H400v160Zm0 220h160v-160H400v160ZM180-400h160v-160H180v160Zm440 0h160v-160H620v160ZM180-180h160v-160H180v160Zm440 0h160v-160H620v160Z\"/>\n",
       "  </svg>\n",
       "    </button>\n",
       "\n",
       "  <style>\n",
       "    .colab-df-container {\n",
       "      display:flex;\n",
       "      gap: 12px;\n",
       "    }\n",
       "\n",
       "    .colab-df-convert {\n",
       "      background-color: #E8F0FE;\n",
       "      border: none;\n",
       "      border-radius: 50%;\n",
       "      cursor: pointer;\n",
       "      display: none;\n",
       "      fill: #1967D2;\n",
       "      height: 32px;\n",
       "      padding: 0 0 0 0;\n",
       "      width: 32px;\n",
       "    }\n",
       "\n",
       "    .colab-df-convert:hover {\n",
       "      background-color: #E2EBFA;\n",
       "      box-shadow: 0px 1px 2px rgba(60, 64, 67, 0.3), 0px 1px 3px 1px rgba(60, 64, 67, 0.15);\n",
       "      fill: #174EA6;\n",
       "    }\n",
       "\n",
       "    .colab-df-buttons div {\n",
       "      margin-bottom: 4px;\n",
       "    }\n",
       "\n",
       "    [theme=dark] .colab-df-convert {\n",
       "      background-color: #3B4455;\n",
       "      fill: #D2E3FC;\n",
       "    }\n",
       "\n",
       "    [theme=dark] .colab-df-convert:hover {\n",
       "      background-color: #434B5C;\n",
       "      box-shadow: 0px 1px 3px 1px rgba(0, 0, 0, 0.15);\n",
       "      filter: drop-shadow(0px 1px 2px rgba(0, 0, 0, 0.3));\n",
       "      fill: #FFFFFF;\n",
       "    }\n",
       "  </style>\n",
       "\n",
       "    <script>\n",
       "      const buttonEl =\n",
       "        document.querySelector('#df-1ccc212e-824f-42fa-ac13-55dae6aed0b9 button.colab-df-convert');\n",
       "      buttonEl.style.display =\n",
       "        google.colab.kernel.accessAllowed ? 'block' : 'none';\n",
       "\n",
       "      async function convertToInteractive(key) {\n",
       "        const element = document.querySelector('#df-1ccc212e-824f-42fa-ac13-55dae6aed0b9');\n",
       "        const dataTable =\n",
       "          await google.colab.kernel.invokeFunction('convertToInteractive',\n",
       "                                                    [key], {});\n",
       "        if (!dataTable) return;\n",
       "\n",
       "        const docLinkHtml = 'Like what you see? Visit the ' +\n",
       "          '<a target=\"_blank\" href=https://colab.research.google.com/notebooks/data_table.ipynb>data table notebook</a>'\n",
       "          + ' to learn more about interactive tables.';\n",
       "        element.innerHTML = '';\n",
       "        dataTable['output_type'] = 'display_data';\n",
       "        await google.colab.output.renderOutput(dataTable, element);\n",
       "        const docLink = document.createElement('div');\n",
       "        docLink.innerHTML = docLinkHtml;\n",
       "        element.appendChild(docLink);\n",
       "      }\n",
       "    </script>\n",
       "  </div>\n",
       "\n",
       "\n",
       "<div id=\"df-b10150ec-0117-45b8-a4f4-c1fe3950cafa\">\n",
       "  <button class=\"colab-df-quickchart\" onclick=\"quickchart('df-b10150ec-0117-45b8-a4f4-c1fe3950cafa')\"\n",
       "            title=\"Suggest charts\"\n",
       "            style=\"display:none;\">\n",
       "\n",
       "<svg xmlns=\"http://www.w3.org/2000/svg\" height=\"24px\"viewBox=\"0 0 24 24\"\n",
       "     width=\"24px\">\n",
       "    <g>\n",
       "        <path d=\"M19 3H5c-1.1 0-2 .9-2 2v14c0 1.1.9 2 2 2h14c1.1 0 2-.9 2-2V5c0-1.1-.9-2-2-2zM9 17H7v-7h2v7zm4 0h-2V7h2v10zm4 0h-2v-4h2v4z\"/>\n",
       "    </g>\n",
       "</svg>\n",
       "  </button>\n",
       "\n",
       "<style>\n",
       "  .colab-df-quickchart {\n",
       "      --bg-color: #E8F0FE;\n",
       "      --fill-color: #1967D2;\n",
       "      --hover-bg-color: #E2EBFA;\n",
       "      --hover-fill-color: #174EA6;\n",
       "      --disabled-fill-color: #AAA;\n",
       "      --disabled-bg-color: #DDD;\n",
       "  }\n",
       "\n",
       "  [theme=dark] .colab-df-quickchart {\n",
       "      --bg-color: #3B4455;\n",
       "      --fill-color: #D2E3FC;\n",
       "      --hover-bg-color: #434B5C;\n",
       "      --hover-fill-color: #FFFFFF;\n",
       "      --disabled-bg-color: #3B4455;\n",
       "      --disabled-fill-color: #666;\n",
       "  }\n",
       "\n",
       "  .colab-df-quickchart {\n",
       "    background-color: var(--bg-color);\n",
       "    border: none;\n",
       "    border-radius: 50%;\n",
       "    cursor: pointer;\n",
       "    display: none;\n",
       "    fill: var(--fill-color);\n",
       "    height: 32px;\n",
       "    padding: 0;\n",
       "    width: 32px;\n",
       "  }\n",
       "\n",
       "  .colab-df-quickchart:hover {\n",
       "    background-color: var(--hover-bg-color);\n",
       "    box-shadow: 0 1px 2px rgba(60, 64, 67, 0.3), 0 1px 3px 1px rgba(60, 64, 67, 0.15);\n",
       "    fill: var(--button-hover-fill-color);\n",
       "  }\n",
       "\n",
       "  .colab-df-quickchart-complete:disabled,\n",
       "  .colab-df-quickchart-complete:disabled:hover {\n",
       "    background-color: var(--disabled-bg-color);\n",
       "    fill: var(--disabled-fill-color);\n",
       "    box-shadow: none;\n",
       "  }\n",
       "\n",
       "  .colab-df-spinner {\n",
       "    border: 2px solid var(--fill-color);\n",
       "    border-color: transparent;\n",
       "    border-bottom-color: var(--fill-color);\n",
       "    animation:\n",
       "      spin 1s steps(1) infinite;\n",
       "  }\n",
       "\n",
       "  @keyframes spin {\n",
       "    0% {\n",
       "      border-color: transparent;\n",
       "      border-bottom-color: var(--fill-color);\n",
       "      border-left-color: var(--fill-color);\n",
       "    }\n",
       "    20% {\n",
       "      border-color: transparent;\n",
       "      border-left-color: var(--fill-color);\n",
       "      border-top-color: var(--fill-color);\n",
       "    }\n",
       "    30% {\n",
       "      border-color: transparent;\n",
       "      border-left-color: var(--fill-color);\n",
       "      border-top-color: var(--fill-color);\n",
       "      border-right-color: var(--fill-color);\n",
       "    }\n",
       "    40% {\n",
       "      border-color: transparent;\n",
       "      border-right-color: var(--fill-color);\n",
       "      border-top-color: var(--fill-color);\n",
       "    }\n",
       "    60% {\n",
       "      border-color: transparent;\n",
       "      border-right-color: var(--fill-color);\n",
       "    }\n",
       "    80% {\n",
       "      border-color: transparent;\n",
       "      border-right-color: var(--fill-color);\n",
       "      border-bottom-color: var(--fill-color);\n",
       "    }\n",
       "    90% {\n",
       "      border-color: transparent;\n",
       "      border-bottom-color: var(--fill-color);\n",
       "    }\n",
       "  }\n",
       "</style>\n",
       "\n",
       "  <script>\n",
       "    async function quickchart(key) {\n",
       "      const quickchartButtonEl =\n",
       "        document.querySelector('#' + key + ' button');\n",
       "      quickchartButtonEl.disabled = true;  // To prevent multiple clicks.\n",
       "      quickchartButtonEl.classList.add('colab-df-spinner');\n",
       "      try {\n",
       "        const charts = await google.colab.kernel.invokeFunction(\n",
       "            'suggestCharts', [key], {});\n",
       "      } catch (error) {\n",
       "        console.error('Error during call to suggestCharts:', error);\n",
       "      }\n",
       "      quickchartButtonEl.classList.remove('colab-df-spinner');\n",
       "      quickchartButtonEl.classList.add('colab-df-quickchart-complete');\n",
       "    }\n",
       "    (() => {\n",
       "      let quickchartButtonEl =\n",
       "        document.querySelector('#df-b10150ec-0117-45b8-a4f4-c1fe3950cafa button');\n",
       "      quickchartButtonEl.style.display =\n",
       "        google.colab.kernel.accessAllowed ? 'block' : 'none';\n",
       "    })();\n",
       "  </script>\n",
       "</div>\n",
       "    </div>\n",
       "  </div>\n"
      ],
      "text/plain": [
       "     Red  Orange  Yellow  Brown   Blue  Green\n",
       "0  0.751   0.735   0.883  0.696  0.881  0.925\n",
       "1  0.841   0.895   0.769  0.876  0.863  0.914\n",
       "2  0.856   0.865   0.859  0.855  0.775  0.881\n",
       "3  0.799   0.864   0.784  0.806  0.854  0.865\n",
       "4  0.966   0.852   0.824  0.840  0.810  0.865"
      ]
     },
     "execution_count": 8,
     "metadata": {},
     "output_type": "execute_result"
    }
   ],
   "source": [
    "data = pd.read_excel(\"18_M&M.xls\")\n",
    "data.head()"
   ]
  },
  {
   "cell_type": "code",
   "execution_count": null,
   "metadata": {
    "colab": {
     "base_uri": "https://localhost:8080/"
    },
    "executionInfo": {
     "elapsed": 3,
     "status": "ok",
     "timestamp": 1699863862382,
     "user": {
      "displayName": "Tấn Thành Trần",
      "userId": "11192642793522542419"
     },
     "user_tz": -420
    },
    "id": "KnJvdxYDtPD_",
    "outputId": "7f7ee814-670d-49b1-c884-881628ed94ec"
   },
   "outputs": [
    {
     "name": "stdout",
     "output_type": "stream",
     "text": [
      "Số mẫu N:  100\n",
      "Số mẫu đỏ n:  13\n",
      "Tỉ lệ màu đỏ trên mẫu p_mu:  0.13\n"
     ]
    }
   ],
   "source": [
    "n = data.count().sum()\n",
    "print(\"Số mẫu N: \",n)\n",
    "red = data.count().Red\n",
    "print(\"Số mẫu đỏ n: \",red)\n",
    "p_mu = red/n\n",
    "print(\"Tỉ lệ màu đỏ trên mẫu p_mu: \",p_mu)"
   ]
  },
  {
   "cell_type": "markdown",
   "metadata": {
    "id": "XiWfISOHtPEA"
   },
   "source": [
    "Gọi $p$ là tỷ lệ kẹo M&M có màu đỏ. Ta cần kiểm định giả thuyết:\n",
    "\n",
    "$H_0 : p = 0.2$: 20% kẹo M&M có màu đỏ\n",
    "\n",
    "$H_1: p \\neq 0.2$: tỉ lệ kẹo màu đỏ khác $20\\%$\n",
    "\n",
    "Mức ý nghĩa là: $5\\% => \\alpha=0.05$"
   ]
  },
  {
   "cell_type": "code",
   "execution_count": null,
   "metadata": {
    "id": "GUBallL-tPEA"
   },
   "outputs": [],
   "source": [
    "p = 0.2\n",
    "alpha = 5/100"
   ]
  },
  {
   "cell_type": "markdown",
   "metadata": {
    "id": "TbLmfxAHtPEA"
   },
   "source": [
    "- Các quan sát mẫu là một mẫu ngẫu nhiên đơn giản, các viên kẹo là độc lập nên tỷ lệ kẹo màu đỏ là tuân theo phân phối nhị thức.\n",
    "- Ta có\n",
    "    - $\\hat{p} = 0.13$ là tỷ lệ kẹo màu đỏ.\n",
    "    - $n=100 > 30$,\n",
    "    - $\\hat{p}=0.13$, $n\\hat{p}=100\\times0.13=13 \\geq 5$\n",
    "    -\n",
    "  $n(1-\\hat{p}) = 100(1-0.13)= 87 \\geq 5$\n",
    "=> Vậy phân phối nhị thức của tỷ lệ mẫu có thể xấp xỉ bằng phân phối chuẩn.\n",
    "$$z=\\frac{\\hat{p}-p}{\\sqrt{\\frac{pq}{n}}}$$"
   ]
  },
  {
   "cell_type": "code",
   "execution_count": null,
   "metadata": {
    "colab": {
     "base_uri": "https://localhost:8080/"
    },
    "executionInfo": {
     "elapsed": 501,
     "status": "ok",
     "timestamp": 1699863874409,
     "user": {
      "displayName": "Tấn Thành Trần",
      "userId": "11192642793522542419"
     },
     "user_tz": -420
    },
    "id": "_QuuXF7otPEA",
    "outputId": "176e589d-db4c-4380-d279-d780748a9600"
   },
   "outputs": [
    {
     "name": "stdout",
     "output_type": "stream",
     "text": [
      "z = -1.7500000000000002\n"
     ]
    }
   ],
   "source": [
    "z = (p_mu - p)/np.sqrt(p*(1-p)/n)\n",
    "print(\"z =\", z)"
   ]
  },
  {
   "cell_type": "markdown",
   "metadata": {
    "id": "yEyhCVUQtPEA"
   },
   "source": [
    "Vì $H_1$ là $\\neq$ => là kiểm định **hai đuôi** nên ta có\n",
    "$$p_{values} = P(Z<z) + P(Z>(-z))$$"
   ]
  },
  {
   "cell_type": "code",
   "execution_count": null,
   "metadata": {
    "colab": {
     "base_uri": "https://localhost:8080/"
    },
    "executionInfo": {
     "elapsed": 349,
     "status": "ok",
     "timestamp": 1699863889042,
     "user": {
      "displayName": "Tấn Thành Trần",
      "userId": "11192642793522542419"
     },
     "user_tz": -420
    },
    "id": "YLZTafAltPEB",
    "outputId": "281fe77d-a7ee-4dcb-c298-9d0c1f4cc3b0"
   },
   "outputs": [
    {
     "name": "stdout",
     "output_type": "stream",
     "text": [
      "p_value là:  0.08011831372763414\n",
      "Accept H0\n"
     ]
    }
   ],
   "source": [
    "p_value = stats.norm.cdf(-np.abs(z))*2 # = stats.norm.cdf(z)+ (1-stats.norm.cdf(-z))\n",
    "print(\"p_value là: \", p_value)\n",
    "if p_value < alpha:\n",
    "    print('Reject H0')\n",
    "else:\n",
    "    print('Accept H0')"
   ]
  },
  {
   "cell_type": "markdown",
   "metadata": {
    "id": "8zsTmoHEtPEB"
   },
   "source": [
    "Vì $p_{value} = 0.08 > \\alpha=0.05$ nên ta kết luận: không có bằng chứng để bác bỏ giả thuyết tỉ lệ kẹo M&M có màu đỏ là $20\\%$"
   ]
  },
  {
   "cell_type": "markdown",
   "metadata": {
    "id": "LzJMw30-tPEB"
   },
   "source": [
    "### **Bài 3**\n",
    "\n",
    "Nghiên cứu mức thu nhập X(\\$) và chi tiêu Y(\\$) trong một tháng của một công ty. Khảo sát ngẫu nhiên 7 nhân viên, ta thu được bảng số liệu sau:\n",
    "\n",
    "| X            | 130     | 150      | 133      | 170      | 170      | 210      | 230      |\n",
    "| :----------: | :-----: | :------: | :------: | :------: | :------: | :------: | :------: |\n",
    "| **Y**        | **84**  | **120**  | **108**  | **130**  | **130**  | **150**  | **160**  |\n",
    "\n",
    "\n",
    "a. Dựa vào bảng dữ liệu trên cho biết có xây dựng được mô hình hồi quy hay không? Nếu có hãy xây dựng mô hình hồi quy để ước tính chi tiêu dựa theo thu nhập\n",
    "\n",
    "b. Dự đoán mức chi tiêu của nhân viên công ty trên nếu biết thu nhập là 200$"
   ]
  },
  {
   "cell_type": "code",
   "execution_count": null,
   "metadata": {
    "id": "lthowE4WtPEB"
   },
   "outputs": [],
   "source": [
    "X = np.array([130,150,133,170,170,210, 230])\n",
    "Y = np.array([84,120,108,130,130,150,160])"
   ]
  },
  {
   "cell_type": "markdown",
   "metadata": {
    "id": "8_G627JetPEB"
   },
   "source": [
    "Ta có biến phụ thuộc là $Y$ và biến giải thích là $X$"
   ]
  },
  {
   "cell_type": "code",
   "execution_count": null,
   "metadata": {
    "id": "_PPttXG0tPEB",
    "outputId": "2ee1fa75-7c6c-4fd8-e697-ea786334761f"
   },
   "outputs": [
    {
     "data": {
      "image/png": "[encoded data removed]",
      "text/plain": [
       "<Figure size 640x480 with 1 Axes>"
      ]
     },
     "metadata": {},
     "output_type": "display_data"
    }
   ],
   "source": [
    "# plot X,Y\n",
    "import matplotlib.pyplot as plt\n",
    "plt.scatter(X,Y)\n",
    "plt.xlabel('X')\n",
    "plt.ylabel('Y')\n",
    "plt.show()"
   ]
  },
  {
   "cell_type": "code",
   "execution_count": null,
   "metadata": {
    "id": "0u1q1h-ZtPEB",
    "outputId": "a063f7ec-c6c0-4792-a0d5-6cceabf5b16d"
   },
   "outputs": [
    {
     "name": "stdout",
     "output_type": "stream",
     "text": [
      "Covariance: \n",
      " [[1427.95238095  911.        ]\n",
      " [ 911.          648.        ]]\n",
      "Correlation coefficient: \n",
      " [[1.         0.94705241]\n",
      " [0.94705241 1.        ]]\n"
     ]
    }
   ],
   "source": [
    "# covariance và correlation coefficient của X và Y\n",
    "cov = np.cov(X,Y)\n",
    "print(\"Covariance: \\n\", cov)\n",
    "corr = np.corrcoef(X,Y)\n",
    "print(\"Correlation coefficient: \\n\", corr)"
   ]
  },
  {
   "cell_type": "markdown",
   "metadata": {
    "id": "ZAQGeJlatPEC"
   },
   "source": [
    "Ta thấy hệ số tương quan của $X$ và $Y$ là $0.94$ nên mối quan thuận, tức là nếu $X$ tăng thì $Y$ cũng sẽ tăng."
   ]
  },
  {
   "cell_type": "markdown",
   "metadata": {
    "id": "qY_ZOaz9tPEC"
   },
   "source": [
    "Vậy có thể xây dựng mô hình hồi quy giữa $X$ và $Y$: $$Y=\\beta_0+\\beta_1X$$"
   ]
  },
  {
   "cell_type": "code",
   "execution_count": null,
   "metadata": {
    "id": "drZ7-0YEtPEC",
    "outputId": "db83a239-fd0e-498c-d913-637ec19d6951"
   },
   "outputs": [
    {
     "name": "stdout",
     "output_type": "stream",
     "text": [
      "x_bar =  170.42857142857142\n",
      "y_bar =  126.0\n",
      "beta_1 =  0.6379764564644679\n",
      "beta_0 =  17.270583919698552\n"
     ]
    }
   ],
   "source": [
    "x_bar = np.mean(X)\n",
    "y_bar = np.mean(Y)\n",
    "print(\"x_bar = \", x_bar)\n",
    "print(\"y_bar = \", y_bar)\n",
    "beta_1 = np.sum((X-x_bar)*(Y-y_bar))/np.sum((X-x_bar)**2)\n",
    "beta_0 = y_bar - beta_1*x_bar\n",
    "print(\"beta_1 = \", beta_1)\n",
    "print(\"beta_0 = \", beta_0)"
   ]
  },
  {
   "cell_type": "markdown",
   "metadata": {
    "id": "9N-7FsYvtPEC"
   },
   "source": [
    "Vậy mô hình hồi quy giữ chi tiêu $Y$ và thu nhập $X$ là: $$Y\\approx17,27+0.638X$$"
   ]
  },
  {
   "cell_type": "markdown",
   "metadata": {
    "id": "X2lwKvBotPEC"
   },
   "source": [
    "b. Dự đoán mức chi tiêu của nhân viên công ty trên nếu biết thu nhập là 200$\n",
    "\n",
    "Thu nhâp là 200\\$ => $X=200$ . Thay $X$ vào công thức hồi quy ta xây dựng bên trên."
   ]
  },
  {
   "cell_type": "code",
   "execution_count": null,
   "metadata": {
    "id": "UeqiVxPbtPEC"
   },
   "outputs": [],
   "source": [
    "X1 = 200\n",
    "Y1 = beta_0 + beta_1*X1\n",
    "print(\"Y1 = \", Y1)"
   ]
  },
  {
   "cell_type": "markdown",
   "metadata": {
    "id": "iuvmYWlLtPEC"
   },
   "source": [
    "Vậy chi tiêu của nhân viên công ty khoảng 144,87\\$ nêú thu nhập là 200\\$"
   ]
  },
  {
   "cell_type": "markdown",
   "metadata": {
    "id": "W4gMJUfOunEL"
   },
   "source": []
  },
  {
   "cell_type": "code",
   "execution_count": null,
   "metadata": {},
   "outputs": [],
   "source": []
  }
 ],
 "metadata": {
  "colab": {
   "provenance": []
  },
  "kernelspec": {
   "display_name": "Python 3 (ipykernel)",
   "language": "python",
   "name": "python3"
  },
  "language_info": {
   "codemirror_mode": {
    "name": "ipython",
    "version": 3
   },
   "file_extension": ".py",
   "mimetype": "text/x-python",
   "name": "python",
   "nbconvert_exporter": "python",
   "pygments_lexer": "ipython3",
   "version": "3.12.1"
  }
 },
 "nbformat": 4,
 "nbformat_minor": 4
}
